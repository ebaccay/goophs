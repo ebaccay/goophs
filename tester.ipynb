{
 "cells": [
  {
   "cell_type": "markdown",
   "metadata": {},
   "source": [
    "# Goophs\n",
    "### Goo(gle) Ph(otos File) S(torage)\n",
    "Goophs is a proof of concept software that exploits the fact the Google Photos can have an \"unlimited\" amount of photos stored on their servers at a specified quality. By using encryption and decryption schemes, probabilistic error-correction schemes to combat Google's file compression, database management techniques for file management, and the Google Photos REST API to mesh everything together, we have come up with a free, open-source, and _unlimited_ data storage solution for college students who can't afford services like Dropbox, Unlimited Google Drive, and various other cloud storage services."
   ]
  },
  {
   "cell_type": "markdown",
   "metadata": {},
   "source": [
    "## Module Imports & Global Variable Flags"
   ]
  },
  {
   "cell_type": "code",
   "execution_count": 17,
   "metadata": {},
   "outputs": [],
   "source": [
    "# TODO: Import everything else that is needed\n",
    "import io"
   ]
  },
  {
   "cell_type": "markdown",
   "metadata": {},
   "source": [
    "## Utility Functions"
   ]
  },
  {
   "cell_type": "code",
   "execution_count": 2,
   "metadata": {},
   "outputs": [],
   "source": [
    "# TODO: Put utility functions here\n",
    "# NOTE: Only put a utility function here if it is used in multiple subsections"
   ]
  },
  {
   "cell_type": "markdown",
   "metadata": {},
   "source": [
    "### Test Code"
   ]
  },
  {
   "cell_type": "code",
   "execution_count": 3,
   "metadata": {},
   "outputs": [],
   "source": [
    "# TODO: Make test code"
   ]
  },
  {
   "cell_type": "markdown",
   "metadata": {},
   "source": [
    "## Create Probabalistic Redundancies"
   ]
  },
  {
   "cell_type": "code",
   "execution_count": 16,
   "metadata": {},
   "outputs": [],
   "source": [
    "def create_redundancy(byte_arr):\n",
    "    \"\"\"\n",
    "    \n",
    "    Creates redundancies in the byte array so that some bits can be corrupted and still be recovered\n",
    "    \n",
    "    Parameters\n",
    "    ----------\n",
    "    byte_arr : byte[]\n",
    "        The array of bytes that redundancies will be created from\n",
    "        \n",
    "    Returns\n",
    "    -------\n",
    "    byte[]\n",
    "        A new byte array that now has redundancies\n",
    "    \n",
    "    \"\"\"\n",
    "    \n",
    "    # TODO: Implement this\n",
    "    pass"
   ]
  },
  {
   "cell_type": "code",
   "execution_count": 17,
   "metadata": {},
   "outputs": [],
   "source": [
    "def error_correct(byte_arr):\n",
    "    \"\"\"\n",
    "    \n",
    "    From a redundant byte array, condenses the bits into an error-corrected version\n",
    "    \n",
    "    Parameters\n",
    "    ----------\n",
    "    byte_arr : byte[]\n",
    "        The array of bytes that will be error-corrected\n",
    "        \n",
    "    Returns\n",
    "    -------\n",
    "    byte[]\n",
    "        A new byte array that is now error-corrected\n",
    "    \n",
    "    \"\"\"\n",
    "    \n",
    "    # TODO: Implement this\n",
    "    pass"
   ]
  },
  {
   "cell_type": "markdown",
   "metadata": {},
   "source": [
    "### Test Code"
   ]
  },
  {
   "cell_type": "code",
   "execution_count": 18,
   "metadata": {},
   "outputs": [],
   "source": [
    "# TODO: Make test code"
   ]
  },
  {
   "cell_type": "markdown",
   "metadata": {},
   "source": [
    "## Load Arbitrary File onto PNG"
   ]
  },
  {
   "cell_type": "code",
   "execution_count": 8,
   "metadata": {},
   "outputs": [],
   "source": [
    "def create_byte_arr(filename):\n",
    "    \"\"\"\n",
    "    \n",
    "    Extracts the relevant byte array from the file\n",
    "    \n",
    "    Parameters\n",
    "    ----------\n",
    "    filename : string\n",
    "        The name of the file that information will be extracted from\n",
    "    \n",
    "    Returns\n",
    "    -------\n",
    "    byte[]\n",
    "        The array of bytes extracted from the file\n",
    "    \n",
    "    \"\"\"\n",
    "    \n",
    "    # TODO: Implement this\n",
    "    with open(filename, \"rb\") as file:\n",
    "        f = file.read()\n",
    "        byte_arr = bytearray(f)\n",
    "    return byte_arr"
   ]
  },
  {
   "cell_type": "code",
   "execution_count": 5,
   "metadata": {},
   "outputs": [],
   "source": [
    "def encrypt_bytes(byte_arr, key):\n",
    "    \"\"\"\n",
    "    \n",
    "    Encypts the bytes using a unique key to prevent snooping\n",
    "    \n",
    "    Parameters\n",
    "    ----------\n",
    "    byte_arr : byte[]\n",
    "        The array of bytes that will be encrypted\n",
    "    key : ???\n",
    "        The key that will be used to encrypt the byte array\n",
    "        \n",
    "    Returns\n",
    "    -------\n",
    "    byte[]\n",
    "        The encrypted byte array\n",
    "    \n",
    "    \"\"\"\n",
    "    # TODO: Implement this\n",
    "    pass"
   ]
  },
  {
   "cell_type": "code",
   "execution_count": 22,
   "metadata": {},
   "outputs": [],
   "source": [
    "def write_to_png(byte_arr, png_file):\n",
    "    \"\"\"\n",
    "    \n",
    "    Append the contents of the byte array onto the png_file\n",
    "    \n",
    "    Parameters\n",
    "    ----------\n",
    "    byte_arr : byte[]\n",
    "        The array of bytes to be appended to the png file\n",
    "    png_file : string\n",
    "        The name of the png file that the byte array will be appended to\n",
    "        \n",
    "    Returns\n",
    "    -------\n",
    "    string\n",
    "        The name of the png file that now contains the appended byte array\n",
    "    \n",
    "    \"\"\"\n",
    "    # TODO: Implement this\n",
    "    with open(png_file, \"rb\") as image:\n",
    "        f = image.read()\n",
    "        b = bytearray(f)\n",
    "    #og_size = len(b)\n",
    "    b += byte_arr\n",
    "    file = open(new_png_file_name, 'wb')\n",
    "    file.write(b)\n",
    "    file.close()"
   ]
  },
  {
   "cell_type": "code",
   "execution_count": null,
   "metadata": {},
   "outputs": [],
   "source": [
    "def write_to_png(filename, png_file, key):\n",
    "    \"\"\"\n",
    "    \n",
    "    Write and encrypt the entire contents of a file onto a png file while still maintaining the orginal png image\n",
    "    \n",
    "    Parameters\n",
    "    ----------\n",
    "    filename : string\n",
    "        The name of the file to read the bytes of and write\n",
    "    png_file : string\n",
    "        The name of the png file to write the bytes to\n",
    "    key : ???\n",
    "        The key used to encrypt the file onto the png\n",
    "        \n",
    "    Returns\n",
    "    -------\n",
    "    string\n",
    "        The name of the png file that contains the encrypted version of the original file\n",
    "    \n",
    "    \"\"\"\n",
    "    # FIXME: Add error catching and correction\n",
    "    write_bytes = create_byte_arr(filename)\n",
    "    encrypted_bytes = encrypt_bytes(write_bytes, key)\n",
    "    redundant_bytes = create_redundancy(encrypted_bytes)\n",
    "    return write_to_png(redundant_bytes, png_file)"
   ]
  },
  {
   "cell_type": "markdown",
   "metadata": {},
   "source": [
    "### Test Code"
   ]
  },
  {
   "cell_type": "code",
   "execution_count": 56,
   "metadata": {},
   "outputs": [
    {
     "name": "stdout",
     "output_type": "stream",
     "text": [
      "Collecting text_to_image\n",
      "  Downloading https://files.pythonhosted.org/packages/1d/e2/740b0270f1ca06ccdab62c599e0148732e16d056f42c7f8ea9d1d69d3412/text_to_image-0.0.5.tar.gz\n",
      "Requirement already satisfied: Pillow in /Users/ajanadriano/opt/anaconda3/lib/python3.7/site-packages (from text_to_image) (6.2.0)\n",
      "Building wheels for collected packages: text-to-image\n",
      "  Building wheel for text-to-image (setup.py) ... \u001b[?25ldone\n",
      "\u001b[?25h  Created wheel for text-to-image: filename=text_to_image-0.0.5-cp37-none-any.whl size=7691 sha256=84a89aabdb71e65ba6826c04173083925ada6a686c6bbca5f938f206adb0da98\n",
      "  Stored in directory: /Users/ajanadriano/Library/Caches/pip/wheels/3d/97/b0/21bca1d30afd9d43a25515c82d32aa7cf7754382a414b1ccea\n",
      "Successfully built text-to-image\n",
      "Installing collected packages: text-to-image\n",
      "Successfully installed text-to-image-0.0.5\n"
     ]
    }
   ],
   "source": [
    "# TODO: Make test code\n",
    "\n",
    "import io\n",
    "\n",
    "\n",
    "\n",
    "file = \"test this stuff because I just wanna see what it looks like when I edit the image with this text\"\n",
    "byte_array = bytearray(file,'utf-8')\n",
    "with open(\"eye.jpeg\", \"rb\") as image:\n",
    "    f = image.read()\n",
    "    b = bytearray(f)\n",
    "og_size = len(b)\n",
    "b += byte_array\n",
    "f = open('eye4.jpeg', 'wb')\n",
    "f.write(b)\n",
    "f.close()\n",
    "# print(type(f))\n",
    "# f = open('eye3.jpeg', 'wb')\n",
    "# f.write(b)\n",
    "# f.close()\n",
    "# for i in range(1,len(b)//6):\n",
    "#     if i-1 >= len(byte_array):\n",
    "#         break\n",
    "#     b[(i+1)*8-2:(i+1)*8]=byte_array[2*(i-1):2*(i-1)+2]\n",
    "# f = open('eye2.jpeg', 'wb')\n",
    "# f.write(b)\n",
    "# f.close()\n",
    "\n",
    "# def readimage(path):\n",
    "#     count = os.stat(path).st_size / 2\n",
    "#     with open(path, \"rb\") as f:\n",
    "#         return bytearray(f.read())\n",
    "\n",
    "# bytes = readimage(path+extension)\n",
    "with open(\"eye4.jpeg\", \"rb\") as image2:\n",
    "    og_f = image2.read()\n",
    "    og_b = bytearray(og_f)[og_size:]\n",
    "print(str(og_b))\n",
    "\n",
    "\n",
    "# imageStream = io.BytesIO(bytes(b))\n",
    "# imageFile = Image.open(imageStream)\n",
    "# imageFile.save(\"image.jpg\")\n"
   ]
  },
  {
   "cell_type": "code",
   "execution_count": 64,
   "metadata": {},
   "outputs": [],
   "source": [
    "# with open(\"samplemp3.mp3\", \"rb\") as mp3:\n",
    "#     f2 = mp3.read()\n",
    "#     byte_array = bytearray(f2)\n",
    "    \n",
    "# with open(\"eye.jpeg\", \"rb\") as image:\n",
    "#     f = image.read()\n",
    "#     b = bytearray(f)\n",
    "og_size = len(b)\n",
    "b += byte_array\n",
    "f = open('eye5.jpeg', 'wb')\n",
    "f.write(b)\n",
    "f.close()\n",
    "\n",
    "with open(\"eye5.jpeg\", \"rb\") as image2:\n",
    "    og_f = image2.read()\n",
    "    og_b = bytearray(og_f)[og_size:]\n",
    "\n",
    "f = open('samplemp3_2.mp3', 'wb')\n",
    "f.write(og_b)\n",
    "f.close()"
   ]
  },
  {
   "cell_type": "markdown",
   "metadata": {},
   "source": [
    "## Read Arbitrary File from PNG"
   ]
  },
  {
   "cell_type": "code",
   "execution_count": 18,
   "metadata": {},
   "outputs": [],
   "source": [
    "def extract_from_png(png_name):\n",
    "    \"\"\"\n",
    "    \n",
    "    Extracts the byte array stored in the png file given by `png_name`\n",
    "    \n",
    "    Parameters\n",
    "    ----------\n",
    "    png_name : string\n",
    "        The name of the PNG file on the current file system that holds the stored bytes\n",
    "        \n",
    "    Returns\n",
    "    -------\n",
    "    byte[]\n",
    "        The byte array stored on the PNG file that is now extracted\n",
    "    \n",
    "    \"\"\"\n",
    "    # TODO: Implement this\n",
    "    # og_size = \n",
    "        with open(png_name, \"rb\") as image:\n",
    "        f = image.read()\n",
    "        b = bytearray(f)[og_size:]\n",
    "\n",
    "    f = open('samplemp3_2.mp3', 'wb')\n",
    "    f.write(og_b)\n",
    "    f.close()"
   ]
  },
  {
   "cell_type": "code",
   "execution_count": 7,
   "metadata": {},
   "outputs": [],
   "source": [
    "def decrypt_bytes(byte_arr, key):\n",
    "    \"\"\"\n",
    "    \n",
    "    Decrypts the bytes using a unique key to show original data\n",
    "    \n",
    "    \"\"\"\n",
    "    # TODO: Implement this\n",
    "    pass"
   ]
  },
  {
   "cell_type": "code",
   "execution_count": null,
   "metadata": {},
   "outputs": [],
   "source": [
    "def write_to_file(byte_arr, filename):\n",
    "    \"\"\"\n",
    "    \n",
    "    \n",
    "    \n",
    "    \"\"\"\n",
    "    # TODO: Implement this\n",
    "    pass"
   ]
  },
  {
   "cell_type": "code",
   "execution_count": null,
   "metadata": {},
   "outputs": [],
   "source": [
    "def read_bytes(png_file, key):\n",
    "    \"\"\"\n",
    "    \n",
    "    Reads, error-corrects, and decrypts the contents of a png_file\n",
    "    \n",
    "    Parameters\n",
    "    ----------\n",
    "    png_file : string\n",
    "        The name of the file that will be read and downloaded from Google Photos\n",
    "    filename : string\n",
    "        The name of the file that the contents of the png file will be read to\n",
    "    key : ???\n",
    "        The key that will be used to decrypt the file onto the png\n",
    "        \n",
    "    Returns\n",
    "    -------\n",
    "    boolean\n",
    "        True or false as to whether or not the operation failed (true if success)\n",
    "    \n",
    "    \"\"\"\n",
    "    # FIXME: Add error-correcting and catching\n",
    "    read_bytes = extract_from_png(png_file)\n",
    "    decrypted_bytes = decrypt_bytes(read_bytes)\n",
    "    return error_correct(decrypted_bytes)"
   ]
  },
  {
   "cell_type": "markdown",
   "metadata": {},
   "source": [
    "### Test Code"
   ]
  },
  {
   "cell_type": "code",
   "execution_count": 21,
   "metadata": {},
   "outputs": [],
   "source": [
    "# TODO: Make test code\n",
    "imageio.imwrite(\"MemeCopy.png\", extract_from_png('Meme.png'))"
   ]
  },
  {
   "cell_type": "markdown",
   "metadata": {},
   "source": [
    "## Upload PNG Files to Google Phile Storage"
   ]
  },
  {
   "cell_type": "code",
   "execution_count": 12,
   "metadata": {},
   "outputs": [],
   "source": [
    "def upload_phile(png_file):\n",
    "    \"\"\"\n",
    "    \n",
    "    Uploads the specified png file (or any file really) into Google Photos using the Photos REST API\n",
    "    \n",
    "    Parameters\n",
    "    ----------\n",
    "    png_file : string\n",
    "        The name of the png file that will be uplaoded to Google Photos\n",
    "    \n",
    "    Returns\n",
    "    -------\n",
    "    boolean\n",
    "        True or false as to whether or not the operation failed (true if success)\n",
    "    \n",
    "    \"\"\"\n",
    "    # TODO: Implement this\n",
    "    pass"
   ]
  },
  {
   "cell_type": "markdown",
   "metadata": {},
   "source": [
    "### Test Code"
   ]
  },
  {
   "cell_type": "code",
   "execution_count": 13,
   "metadata": {},
   "outputs": [],
   "source": [
    "# TODO: Make test code"
   ]
  },
  {
   "cell_type": "markdown",
   "metadata": {},
   "source": [
    "## Download PNG FIles from Google Phile Storage"
   ]
  },
  {
   "cell_type": "code",
   "execution_count": 14,
   "metadata": {},
   "outputs": [],
   "source": [
    "def download_phile(png_file):\n",
    "    \"\"\"\n",
    "    \n",
    "    Downloads the specified png file (or any file really) from Google Photos using the Photos REST API\n",
    "    \n",
    "    Parameters\n",
    "    ----------\n",
    "    png_file : string\n",
    "        The name of the png file that will be downloaded from Google Photos\n",
    "        \n",
    "    Returns\n",
    "    -------\n",
    "    string\n",
    "        The name of the file just downloaded on the local file system\n",
    "    \n",
    "    \"\"\"\n",
    "    # TODO: Implement this\n",
    "    pass"
   ]
  },
  {
   "cell_type": "markdown",
   "metadata": {},
   "source": [
    "### Test Code"
   ]
  },
  {
   "cell_type": "code",
   "execution_count": null,
   "metadata": {},
   "outputs": [],
   "source": [
    "# TODO: make test code"
   ]
  },
  {
   "cell_type": "markdown",
   "metadata": {},
   "source": [
    "## Phile Management and Storage Loop"
   ]
  },
  {
   "cell_type": "code",
   "execution_count": 19,
   "metadata": {},
   "outputs": [],
   "source": [
    "def split_file(filename):\n",
    "    \"\"\"\n",
    "    \n",
    "    Splits a singular file's bytes into multiple files to fit into the Google Photos size limit\n",
    "    \n",
    "    Parameters\n",
    "    ----------\n",
    "    filename : string\n",
    "        The name of the file to split\n",
    "    \n",
    "    Returns\n",
    "    -------\n",
    "    string[]\n",
    "        Array of filename strings in which the file was split into\n",
    "    string[]\n",
    "        Array of PNG filenames which, when appened to by the bytes of the raw files, will yield perfectly sized philes\n",
    "    \n",
    "    \n",
    "    \"\"\"\n",
    "    # TODO: Implement this\n",
    "    pass"
   ]
  },
  {
   "cell_type": "code",
   "execution_count": 20,
   "metadata": {},
   "outputs": [],
   "source": [
    "def merge_bytes(filenames):\n",
    "    \"\"\"\n",
    "    \n",
    "    Merges multiple bytes arrays together into a singular byte array\n",
    "    \n",
    "    Parameters\n",
    "    ----------\n",
    "    filenames : byte[][]\n",
    "        An array of strings which correspond to the names of which files to merge\n",
    "        \n",
    "    Returns\n",
    "    -------\n",
    "    byte[]\n",
    "        The merged byte array\n",
    "    \n",
    "    \"\"\"\n",
    "    # TODO: Implement this\n",
    "    pass"
   ]
  },
  {
   "cell_type": "markdown",
   "metadata": {},
   "source": [
    "### Test Code"
   ]
  },
  {
   "cell_type": "code",
   "execution_count": 21,
   "metadata": {},
   "outputs": [],
   "source": [
    "# TODO: Make test code"
   ]
  },
  {
   "cell_type": "markdown",
   "metadata": {},
   "source": [
    "## Core Functionality"
   ]
  },
  {
   "cell_type": "code",
   "execution_count": null,
   "metadata": {},
   "outputs": [],
   "source": [
    "def phile_upload(filename, key):\n",
    "    \"\"\"\n",
    "    \n",
    "    Takes a raw file and goes through the motions of converting said file into several PNGs, encrypting the data,\n",
    "    creating redundancies of the encrypted data, then finally uploading to Google Photos\n",
    "    \n",
    "    Parameters\n",
    "    ----------\n",
    "    filename : string\n",
    "        The name of the file that will go through the phile uploading process\n",
    "    key : ???\n",
    "        The key used to encrypt the file into the version that it is\n",
    "        \n",
    "    Returns\n",
    "    -------\n",
    "    string[]\n",
    "        Array of filename strings in which the file was split into\n",
    "    \n",
    "    \"\"\"\n",
    "    # FIXME: Create error-correcting and catching\n",
    "    philes, png_templates = split_file(filename)\n",
    "    for i in range(len(philes)):\n",
    "        philename, png_template = philes[i], png_templates[i]\n",
    "        final_phile = write_to_png(philename, png_template, key)\n",
    "        upload_phile(final_phile)\n",
    "        \n",
    "    return philes"
   ]
  },
  {
   "cell_type": "code",
   "execution_count": null,
   "metadata": {},
   "outputs": [],
   "source": [
    "def phile_download(png_filenames, filename, key):\n",
    "    \"\"\"\n",
    "    \n",
    "    Takes several PNG filenames from Google Photos and downloads, error-corrects, decrypts, and merge the data from \n",
    "    all of these files into a singular file containing all of the data necessary\n",
    "    \n",
    "    Parameters\n",
    "    ----------\n",
    "    png_filenames : string[]\n",
    "        An array containing the names of all of the files that will have to merged together in the order of which\n",
    "        chunks come first in the final file\n",
    "    filename : string\n",
    "        The name of the final file in which the data will be stored in\n",
    "    key : ???\n",
    "        The key used to decrypt the file into the final version\n",
    "        \n",
    "    Returns\n",
    "    -------\n",
    "    boolean\n",
    "        True or false as to whether or not the operation failed (true if success)\n",
    "    \n",
    "    \"\"\"\n",
    "    # FIXME: Create error-correcting and catching\n",
    "    file_bytes = []\n",
    "    for phile in png_filenames:\n",
    "        downloaded_file = download_phile(phile)\n",
    "        file_bytes.append(read_bytes(downloaded_file))\n",
    "        \n",
    "    merged_bytes = merge_bytes(png_filenames)\n",
    "    write_to_file(merged_bytes, filename)\n",
    "    \n",
    "    return True"
   ]
  },
  {
   "cell_type": "markdown",
   "metadata": {},
   "source": [
    "### Test Code"
   ]
  },
  {
   "cell_type": "code",
   "execution_count": null,
   "metadata": {},
   "outputs": [],
   "source": [
    "# TODO: Make test code"
   ]
  },
  {
   "cell_type": "markdown",
   "metadata": {},
   "source": [
    "## Program Functionality"
   ]
  },
  {
   "cell_type": "code",
   "execution_count": null,
   "metadata": {},
   "outputs": [],
   "source": [
    "def create_internal_dictionary(key):\n",
    "    \"\"\"\n",
    "    \n",
    "    Downloads the index file in order to download the dictionary files needed to \n",
    "    \n",
    "    Parameters\n",
    "    ----------\n",
    "    key : ???\n",
    "        The key used to decrypt the file into the final version\n",
    "    \n",
    "    Returns\n",
    "    -------\n",
    "    dictionary\n",
    "        A dictionary that maps a file name to an array of PNG philes. This dictionary acts as a \n",
    "        rudimentary file system\n",
    "    \n",
    "    \"\"\"\n",
    "    \n",
    "    phile_download([\"index.png\"], \"index.int\", key)\n",
    "    dict_num = read_index(\"index.int\")\n",
    "    dict_file_list = [f\"dict_{n}.png\" for n in range(dict_num)]\n",
    "    phile_download(dict_file_list, \"fs.json\", key)\n",
    "    return read_json(\"fs.json\")"
   ]
  },
  {
   "cell_type": "code",
   "execution_count": 2,
   "metadata": {},
   "outputs": [],
   "source": [
    "def update_internal_dictionary(key):\n",
    "    \"\"\"\n",
    "    \n",
    "    \n",
    "    \n",
    "    \"\"\"\n",
    "    \n",
    "    pass"
   ]
  },
  {
   "cell_type": "code",
   "execution_count": null,
   "metadata": {},
   "outputs": [],
   "source": [
    "def read_index(filename):\n",
    "    \"\"\"\n",
    "    \n",
    "    Reads the index file and returns the contents of the index file\n",
    "    \n",
    "    Parameters\n",
    "    ----------\n",
    "    filename : string\n",
    "        The name of the index file. This file is usually called `index.int` but this parameter exists for\n",
    "        the sake of extensibility and modularity\n",
    "        \n",
    "    Returns\n",
    "    -------\n",
    "    int\n",
    "        The number of dictionary files that will needed to be downloaded\n",
    "    \n",
    "    \"\"\"\n",
    "    # TODO: Implement this\n",
    "    pass"
   ]
  },
  {
   "cell_type": "code",
   "execution_count": null,
   "metadata": {},
   "outputs": [],
   "source": [
    "def update_index(filename):\n",
    "    \"\"\"\n",
    "    \n",
    "    \n",
    "    \n",
    "    \"\"\"\n",
    "    # TODO: Implement this\n",
    "    pass"
   ]
  },
  {
   "cell_type": "code",
   "execution_count": null,
   "metadata": {},
   "outputs": [],
   "source": [
    "def write_json(json_obj, filename):\n",
    "    \"\"\"\n",
    "    \n",
    "    From the `json_obj`, converts the python data structure into an actual JSON file\n",
    "    \n",
    "    Parameters\n",
    "    ----------\n",
    "    json_obj : string[] -or- dictionary\n",
    "        A python dictionary or string array that represents the JSON file in a python data structure\n",
    "    filename : string\n",
    "        The name of the JSON file that the python data object will be converted into\n",
    "        \n",
    "    Returns\n",
    "    -------\n",
    "    boolean\n",
    "        True or false as to whether or not the operation failed (true if success)\n",
    "    \n",
    "    \"\"\"\n",
    "    # TODO: Implement this\n",
    "    pass\n",
    "    \n",
    "def read_json(filename):\n",
    "    \"\"\"\n",
    "    \n",
    "    Reads a JSON file and returns the corresponding python dictionary\n",
    "    \n",
    "    Parameters\n",
    "    ----------\n",
    "    filename : string\n",
    "        The name of the JSON file to convert into a python data object\n",
    "        \n",
    "    Returns\n",
    "    -------\n",
    "    dictionary -or- string[]\n",
    "        A python dictionary or string array that represents the JSON file in a python data structure\n",
    "    \n",
    "    \"\"\"\n",
    "    # TODO: Implement this\n",
    "    pass"
   ]
  },
  {
   "cell_type": "markdown",
   "metadata": {},
   "source": [
    "### Test Code"
   ]
  },
  {
   "cell_type": "code",
   "execution_count": null,
   "metadata": {},
   "outputs": [],
   "source": []
  },
  {
   "cell_type": "markdown",
   "metadata": {},
   "source": [
    "## Terminal Input"
   ]
  },
  {
   "cell_type": "code",
   "execution_count": null,
   "metadata": {},
   "outputs": [],
   "source": [
    "def terminal_main(command):\n",
    "    \"\"\"\n",
    "    \n",
    "    \n",
    "    \"\"\"\n",
    "    file_system = create_internal_dictionary(key)\n",
    "    \n",
    "    if command == \"read\":\n",
    "        if \n",
    "    \n",
    "    \n",
    "    \n",
    "    \n",
    "    "
   ]
  },
  {
   "cell_type": "markdown",
   "metadata": {},
   "source": [
    "### Test Code"
   ]
  },
  {
   "cell_type": "code",
   "execution_count": 2,
   "metadata": {},
   "outputs": [],
   "source": [
    "# TODO: Make test code"
   ]
  },
  {
   "cell_type": "markdown",
   "metadata": {},
   "source": [
    "## API Gateway"
   ]
  },
  {
   "cell_type": "code",
   "execution_count": 24,
   "metadata": {},
   "outputs": [],
   "source": [
    "# TODO: Write gateway code with Flask\n",
    "def api_main():\n",
    "    pass"
   ]
  },
  {
   "cell_type": "markdown",
   "metadata": {},
   "source": [
    "### Test Code"
   ]
  },
  {
   "cell_type": "code",
   "execution_count": 25,
   "metadata": {},
   "outputs": [],
   "source": [
    "# TODO: Make test code"
   ]
  }
 ],
 "metadata": {
  "kernelspec": {
   "display_name": "Python 3",
   "language": "python",
   "name": "python3"
  },
  "language_info": {
   "codemirror_mode": {
    "name": "ipython",
    "version": 3
   },
   "file_extension": ".py",
   "mimetype": "text/x-python",
   "name": "python",
   "nbconvert_exporter": "python",
   "pygments_lexer": "ipython3",
   "version": "3.7.4"
  }
 },
 "nbformat": 4,
 "nbformat_minor": 2
}
